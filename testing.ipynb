{
 "cells": [
  {
   "cell_type": "code",
   "execution_count": 2,
   "id": "220db95d",
   "metadata": {},
   "outputs": [],
   "source": [
    "import yfinance as yf\n",
    "import pandas as pd\n",
    "from main import Security\n",
    "\n",
    "\n",
    "\n"
   ]
  },
  {
   "cell_type": "code",
   "execution_count": 19,
   "id": "cf25ed03",
   "metadata": {},
   "outputs": [
    {
     "name": "stderr",
     "output_type": "stream",
     "text": [
      "[*********************100%***********************]  1 of 1 completed\n",
      "[*********************100%***********************]  1 of 1 completed\n"
     ]
    },
    {
     "data": {
      "text/plain": [
       "{'AAPL': Price            Close        High         Low        Open     Volume\n",
       " Ticker            AAPL        AAPL        AAPL        AAPL       AAPL\n",
       " Date                                                                 \n",
       " 1980-12-12    0.098597    0.099025    0.098597    0.098597  469033600\n",
       " 1980-12-15    0.093453    0.093881    0.093453    0.093881  175884800\n",
       " 1980-12-16    0.086594    0.087022    0.086594    0.087022  105728000\n",
       " 1980-12-17    0.088737    0.089165    0.088737    0.088737   86441600\n",
       " 1980-12-18    0.091310    0.091738    0.091310    0.091310   73449600\n",
       " ...                ...         ...         ...         ...        ...\n",
       " 2025-05-08  197.231369  199.788014  194.425036  197.461064   50478900\n",
       " 2025-05-09  198.270004  200.277366  197.281295  198.739390   36453900\n",
       " 2025-05-12  210.789993  211.270004  206.750000  210.970001   63775800\n",
       " 2025-05-13  212.929993  213.399994  209.000000  210.429993   51909300\n",
       " 2025-05-14  212.330002  213.940002  210.580002  212.429993   49253000\n",
       " \n",
       " [11196 rows x 5 columns],\n",
       " 'META': Price            Close        High         Low        Open     Volume\n",
       " Ticker            META        META        META        META       META\n",
       " Date                                                                 \n",
       " 2012-05-18   38.050667   44.788910   37.821746   41.852747  573576400\n",
       " 2012-05-21   33.870365   36.488029   32.845198   36.358638  168192700\n",
       " 2012-05-22   30.854580   33.432430   30.794862   32.457028  101786600\n",
       " 2012-05-23   31.849892   32.347546   31.212894   31.222848   73600000\n",
       " 2012-05-24   32.875057   33.054213   31.620969   32.795434   50237200\n",
       " ...                ...         ...         ...         ...        ...\n",
       " 2025-05-09  592.489990  606.969971  591.710022  603.719971   10427300\n",
       " 2025-05-12  639.429993  640.390015  621.030029  630.919983   21965100\n",
       " 2025-05-13  656.030029  660.919983  642.830017  645.539978   18570800\n",
       " 2025-05-14  659.359985  662.669983  654.309998  661.210022   12325500\n",
       " 2025-05-15  652.130005  656.949890  646.909973  654.294983    5346436\n",
       " \n",
       " [3267 rows x 5 columns]}"
      ]
     },
     "execution_count": 19,
     "metadata": {},
     "output_type": "execute_result"
    }
   ],
   "source": [
    "portfolio = [Security(ticker = ticker) for ticker in [\"AAPL\", \"META\"]]\n",
    "\n",
    "for sec in portfolio:\n",
    "    sec.upload_yf_data()\n",
    "\n",
    "portfolio_data = {sec.ticker:sec.data for sec in portfolio if sec.data is not None}\n",
    "\n",
    "portfolio_data"
   ]
  },
  {
   "cell_type": "code",
   "execution_count": 30,
   "id": "9c1f75a9",
   "metadata": {},
   "outputs": [
    {
     "name": "stdout",
     "output_type": "stream",
     "text": [
      "Ticker            AAPL\n",
      "Date                  \n",
      "1980-12-12    0.098597\n",
      "1980-12-15    0.093453\n",
      "1980-12-16    0.086594\n",
      "1980-12-17    0.088737\n",
      "1980-12-18    0.091310\n",
      "...                ...\n",
      "2025-05-08  197.231369\n",
      "2025-05-09  198.270004\n",
      "2025-05-12  210.789993\n",
      "2025-05-13  212.929993\n",
      "2025-05-14  212.330002\n",
      "\n",
      "[11196 rows x 1 columns]\n"
     ]
    }
   ],
   "source": [
    "appl_data, meta_data = portfolio_data.items()\n",
    "\n",
    "df = appl_data[1]\n",
    "print(df[\"Close\"])"
   ]
  },
  {
   "cell_type": "code",
   "execution_count": 40,
   "id": "6e8b591d",
   "metadata": {},
   "outputs": [
    {
     "name": "stdout",
     "output_type": "stream",
     "text": [
      "Ticker       Date        AAPL        META\n",
      "0      1980-12-12    0.098597         NaN\n",
      "1      1980-12-15    0.093453         NaN\n",
      "2      1980-12-16    0.086594         NaN\n",
      "3      1980-12-17    0.088737         NaN\n",
      "4      1980-12-18    0.091310         NaN\n",
      "...           ...         ...         ...\n",
      "11192  2025-05-09  198.270004  592.489990\n",
      "11193  2025-05-12  210.789993  639.429993\n",
      "11194  2025-05-13  212.929993  656.030029\n",
      "11195  2025-05-14  212.330002  659.359985\n",
      "11196  2025-05-15         NaN  652.130005\n",
      "\n",
      "[11197 rows x 3 columns]\n"
     ]
    }
   ],
   "source": [
    "all_close = []\n",
    "\n",
    "for ticker,df in portfolio_data.items():\n",
    "    if df is not None and not df.empty:\n",
    "        try:\n",
    "            close = df[\"Close\"].copy()\n",
    "            close.name = ticker\n",
    "            all_close.append(close)\n",
    "        except KeyError:\n",
    "            print(f\"{ticker} does not have a 'close' column.\")\n",
    "\n",
    "close_prices = pd.concat(all_close, axis= 1).reset_index()\n",
    "\n",
    "print(close_prices)\n",
    "\n",
    "#for ticker, df in portfolio_data.items():\n",
    "#    if df is not None and not df.empty:\n",
    "#        if isinstance(df.columns, pd.MultiIndex):\n",
    "#            close = df[ticker][\"Close\"].copy()\n",
    "#        else:\n",
    "#            close = df[\"Close\"].copy()\n",
    "#        close.name = ticker\n",
    "#        all_close.append(close)\n",
    "\n",
    "#close_prices = pd.concat(all_close)"
   ]
  },
  {
   "cell_type": "markdown",
   "id": "8868937f",
   "metadata": {},
   "source": [
    "-----------------------------------"
   ]
  },
  {
   "cell_type": "code",
   "execution_count": 4,
   "id": "a78938fc",
   "metadata": {},
   "outputs": [
    {
     "data": {
      "application/vnd.microsoft.datawrangler.viewer.v0+json": {
       "columns": [
        {
         "name": "Date",
         "rawType": "datetime64[ns, America/New_York]",
         "type": "unknown"
        },
        {
         "name": "Open",
         "rawType": "float64",
         "type": "float"
        },
        {
         "name": "High",
         "rawType": "float64",
         "type": "float"
        },
        {
         "name": "Low",
         "rawType": "float64",
         "type": "float"
        },
        {
         "name": "Close",
         "rawType": "float64",
         "type": "float"
        },
        {
         "name": "Volume",
         "rawType": "int64",
         "type": "integer"
        },
        {
         "name": "Dividends",
         "rawType": "float64",
         "type": "float"
        },
        {
         "name": "Stock Splits",
         "rawType": "float64",
         "type": "float"
        }
       ],
       "conversionMethod": "pd.DataFrame",
       "ref": "a959e6c8-22a0-4fee-9e11-2e0894be1d7a",
       "rows": [
        [
         "2025-04-15 00:00:00-04:00",
         "161.57000732421875",
         "162.0500030517578",
         "157.64500427246094",
         "158.67999267578125",
         "15690800",
         "0.0",
         "0.0"
        ],
        [
         "2025-04-16 00:00:00-04:00",
         "155.47000122070312",
         "158.17999267578125",
         "153.91000366210938",
         "155.5",
         "16921500",
         "0.0",
         "0.0"
        ],
        [
         "2025-04-17 00:00:00-04:00",
         "156.61000061035156",
         "157.07000732421875",
         "150.89999389648438",
         "153.36000061035156",
         "19513400",
         "0.0",
         "0.0"
        ],
        [
         "2025-04-21 00:00:00-04:00",
         "150.96499633789062",
         "151.05999755859375",
         "148.39999389648438",
         "149.86000061035156",
         "16147800",
         "0.0",
         "0.0"
        ],
        [
         "2025-04-22 00:00:00-04:00",
         "151.07000732421875",
         "154.61000061035156",
         "150.8699951171875",
         "153.89999389648438",
         "15910300",
         "0.0",
         "0.0"
        ]
       ],
       "shape": {
        "columns": 7,
        "rows": 5
       }
      },
      "text/html": [
       "<div>\n",
       "<style scoped>\n",
       "    .dataframe tbody tr th:only-of-type {\n",
       "        vertical-align: middle;\n",
       "    }\n",
       "\n",
       "    .dataframe tbody tr th {\n",
       "        vertical-align: top;\n",
       "    }\n",
       "\n",
       "    .dataframe thead th {\n",
       "        text-align: right;\n",
       "    }\n",
       "</style>\n",
       "<table border=\"1\" class=\"dataframe\">\n",
       "  <thead>\n",
       "    <tr style=\"text-align: right;\">\n",
       "      <th></th>\n",
       "      <th>Open</th>\n",
       "      <th>High</th>\n",
       "      <th>Low</th>\n",
       "      <th>Close</th>\n",
       "      <th>Volume</th>\n",
       "      <th>Dividends</th>\n",
       "      <th>Stock Splits</th>\n",
       "    </tr>\n",
       "    <tr>\n",
       "      <th>Date</th>\n",
       "      <th></th>\n",
       "      <th></th>\n",
       "      <th></th>\n",
       "      <th></th>\n",
       "      <th></th>\n",
       "      <th></th>\n",
       "      <th></th>\n",
       "    </tr>\n",
       "  </thead>\n",
       "  <tbody>\n",
       "    <tr>\n",
       "      <th>2025-04-15 00:00:00-04:00</th>\n",
       "      <td>161.570007</td>\n",
       "      <td>162.050003</td>\n",
       "      <td>157.645004</td>\n",
       "      <td>158.679993</td>\n",
       "      <td>15690800</td>\n",
       "      <td>0.0</td>\n",
       "      <td>0.0</td>\n",
       "    </tr>\n",
       "    <tr>\n",
       "      <th>2025-04-16 00:00:00-04:00</th>\n",
       "      <td>155.470001</td>\n",
       "      <td>158.179993</td>\n",
       "      <td>153.910004</td>\n",
       "      <td>155.500000</td>\n",
       "      <td>16921500</td>\n",
       "      <td>0.0</td>\n",
       "      <td>0.0</td>\n",
       "    </tr>\n",
       "    <tr>\n",
       "      <th>2025-04-17 00:00:00-04:00</th>\n",
       "      <td>156.610001</td>\n",
       "      <td>157.070007</td>\n",
       "      <td>150.899994</td>\n",
       "      <td>153.360001</td>\n",
       "      <td>19513400</td>\n",
       "      <td>0.0</td>\n",
       "      <td>0.0</td>\n",
       "    </tr>\n",
       "    <tr>\n",
       "      <th>2025-04-21 00:00:00-04:00</th>\n",
       "      <td>150.964996</td>\n",
       "      <td>151.059998</td>\n",
       "      <td>148.399994</td>\n",
       "      <td>149.860001</td>\n",
       "      <td>16147800</td>\n",
       "      <td>0.0</td>\n",
       "      <td>0.0</td>\n",
       "    </tr>\n",
       "    <tr>\n",
       "      <th>2025-04-22 00:00:00-04:00</th>\n",
       "      <td>151.070007</td>\n",
       "      <td>154.610001</td>\n",
       "      <td>150.869995</td>\n",
       "      <td>153.899994</td>\n",
       "      <td>15910300</td>\n",
       "      <td>0.0</td>\n",
       "      <td>0.0</td>\n",
       "    </tr>\n",
       "  </tbody>\n",
       "</table>\n",
       "</div>"
      ],
      "text/plain": [
       "                                 Open        High         Low       Close  \\\n",
       "Date                                                                        \n",
       "2025-04-15 00:00:00-04:00  161.570007  162.050003  157.645004  158.679993   \n",
       "2025-04-16 00:00:00-04:00  155.470001  158.179993  153.910004  155.500000   \n",
       "2025-04-17 00:00:00-04:00  156.610001  157.070007  150.899994  153.360001   \n",
       "2025-04-21 00:00:00-04:00  150.964996  151.059998  148.399994  149.860001   \n",
       "2025-04-22 00:00:00-04:00  151.070007  154.610001  150.869995  153.899994   \n",
       "\n",
       "                             Volume  Dividends  Stock Splits  \n",
       "Date                                                          \n",
       "2025-04-15 00:00:00-04:00  15690800        0.0           0.0  \n",
       "2025-04-16 00:00:00-04:00  16921500        0.0           0.0  \n",
       "2025-04-17 00:00:00-04:00  19513400        0.0           0.0  \n",
       "2025-04-21 00:00:00-04:00  16147800        0.0           0.0  \n",
       "2025-04-22 00:00:00-04:00  15910300        0.0           0.0  "
      ]
     },
     "execution_count": 4,
     "metadata": {},
     "output_type": "execute_result"
    }
   ],
   "source": [
    "data = goog.history()\n",
    "data.head() #! last month data"
   ]
  },
  {
   "cell_type": "code",
   "execution_count": 5,
   "id": "686b0e47",
   "metadata": {},
   "outputs": [
    {
     "data": {
      "application/vnd.microsoft.datawrangler.viewer.v0+json": {
       "columns": [
        {
         "name": "Datetime",
         "rawType": "datetime64[ns, America/New_York]",
         "type": "unknown"
        },
        {
         "name": "Open",
         "rawType": "float64",
         "type": "float"
        },
        {
         "name": "High",
         "rawType": "float64",
         "type": "float"
        },
        {
         "name": "Low",
         "rawType": "float64",
         "type": "float"
        },
        {
         "name": "Close",
         "rawType": "float64",
         "type": "float"
        },
        {
         "name": "Volume",
         "rawType": "int64",
         "type": "integer"
        },
        {
         "name": "Dividends",
         "rawType": "float64",
         "type": "float"
        },
        {
         "name": "Stock Splits",
         "rawType": "float64",
         "type": "float"
        }
       ],
       "conversionMethod": "pd.DataFrame",
       "ref": "740d788c-2031-4846-966d-a3e4026ccbca",
       "rows": [
        [
         "2025-05-05 09:30:00-04:00",
         "164.47000122070312",
         "165.11000061035156",
         "164.47000122070312",
         "164.9499969482422",
         "644867",
         "0.0",
         "0.0"
        ],
        [
         "2025-05-05 09:31:00-04:00",
         "164.9600067138672",
         "165.42999267578125",
         "164.83999633789062",
         "165.27999877929688",
         "81708",
         "0.0",
         "0.0"
        ],
        [
         "2025-05-05 09:35:00-04:00",
         "165.6649932861328",
         "165.9250030517578",
         "165.64500427246094",
         "165.91000366210938",
         "290164",
         "0.0",
         "0.0"
        ],
        [
         "2025-05-05 09:36:00-04:00",
         "165.89999389648438",
         "166.25",
         "165.89999389648438",
         "166.22999572753906",
         "131090",
         "0.0",
         "0.0"
        ],
        [
         "2025-05-05 09:37:00-04:00",
         "166.21499633789062",
         "166.38999938964844",
         "166.17999267578125",
         "166.36000061035156",
         "75718",
         "0.0",
         "0.0"
        ]
       ],
       "shape": {
        "columns": 7,
        "rows": 5
       }
      },
      "text/html": [
       "<div>\n",
       "<style scoped>\n",
       "    .dataframe tbody tr th:only-of-type {\n",
       "        vertical-align: middle;\n",
       "    }\n",
       "\n",
       "    .dataframe tbody tr th {\n",
       "        vertical-align: top;\n",
       "    }\n",
       "\n",
       "    .dataframe thead th {\n",
       "        text-align: right;\n",
       "    }\n",
       "</style>\n",
       "<table border=\"1\" class=\"dataframe\">\n",
       "  <thead>\n",
       "    <tr style=\"text-align: right;\">\n",
       "      <th></th>\n",
       "      <th>Open</th>\n",
       "      <th>High</th>\n",
       "      <th>Low</th>\n",
       "      <th>Close</th>\n",
       "      <th>Volume</th>\n",
       "      <th>Dividends</th>\n",
       "      <th>Stock Splits</th>\n",
       "    </tr>\n",
       "    <tr>\n",
       "      <th>Datetime</th>\n",
       "      <th></th>\n",
       "      <th></th>\n",
       "      <th></th>\n",
       "      <th></th>\n",
       "      <th></th>\n",
       "      <th></th>\n",
       "      <th></th>\n",
       "    </tr>\n",
       "  </thead>\n",
       "  <tbody>\n",
       "    <tr>\n",
       "      <th>2025-05-05 09:30:00-04:00</th>\n",
       "      <td>164.470001</td>\n",
       "      <td>165.110001</td>\n",
       "      <td>164.470001</td>\n",
       "      <td>164.949997</td>\n",
       "      <td>644867</td>\n",
       "      <td>0.0</td>\n",
       "      <td>0.0</td>\n",
       "    </tr>\n",
       "    <tr>\n",
       "      <th>2025-05-05 09:31:00-04:00</th>\n",
       "      <td>164.960007</td>\n",
       "      <td>165.429993</td>\n",
       "      <td>164.839996</td>\n",
       "      <td>165.279999</td>\n",
       "      <td>81708</td>\n",
       "      <td>0.0</td>\n",
       "      <td>0.0</td>\n",
       "    </tr>\n",
       "    <tr>\n",
       "      <th>2025-05-05 09:35:00-04:00</th>\n",
       "      <td>165.664993</td>\n",
       "      <td>165.925003</td>\n",
       "      <td>165.645004</td>\n",
       "      <td>165.910004</td>\n",
       "      <td>290164</td>\n",
       "      <td>0.0</td>\n",
       "      <td>0.0</td>\n",
       "    </tr>\n",
       "    <tr>\n",
       "      <th>2025-05-05 09:36:00-04:00</th>\n",
       "      <td>165.899994</td>\n",
       "      <td>166.250000</td>\n",
       "      <td>165.899994</td>\n",
       "      <td>166.229996</td>\n",
       "      <td>131090</td>\n",
       "      <td>0.0</td>\n",
       "      <td>0.0</td>\n",
       "    </tr>\n",
       "    <tr>\n",
       "      <th>2025-05-05 09:37:00-04:00</th>\n",
       "      <td>166.214996</td>\n",
       "      <td>166.389999</td>\n",
       "      <td>166.179993</td>\n",
       "      <td>166.360001</td>\n",
       "      <td>75718</td>\n",
       "      <td>0.0</td>\n",
       "      <td>0.0</td>\n",
       "    </tr>\n",
       "  </tbody>\n",
       "</table>\n",
       "</div>"
      ],
      "text/plain": [
       "                                 Open        High         Low       Close  \\\n",
       "Datetime                                                                    \n",
       "2025-05-05 09:30:00-04:00  164.470001  165.110001  164.470001  164.949997   \n",
       "2025-05-05 09:31:00-04:00  164.960007  165.429993  164.839996  165.279999   \n",
       "2025-05-05 09:35:00-04:00  165.664993  165.925003  165.645004  165.910004   \n",
       "2025-05-05 09:36:00-04:00  165.899994  166.250000  165.899994  166.229996   \n",
       "2025-05-05 09:37:00-04:00  166.214996  166.389999  166.179993  166.360001   \n",
       "\n",
       "                           Volume  Dividends  Stock Splits  \n",
       "Datetime                                                    \n",
       "2025-05-05 09:30:00-04:00  644867        0.0           0.0  \n",
       "2025-05-05 09:31:00-04:00   81708        0.0           0.0  \n",
       "2025-05-05 09:35:00-04:00  290164        0.0           0.0  \n",
       "2025-05-05 09:36:00-04:00  131090        0.0           0.0  \n",
       "2025-05-05 09:37:00-04:00   75718        0.0           0.0  "
      ]
     },
     "execution_count": 5,
     "metadata": {},
     "output_type": "execute_result"
    }
   ],
   "source": [
    "data = goog.history(interval = '1m',start = '2025-05-03',end = '2025-05-10')\n",
    "data.head()"
   ]
  },
  {
   "cell_type": "code",
   "execution_count": 6,
   "id": "efb21d8f",
   "metadata": {},
   "outputs": [
    {
     "name": "stderr",
     "output_type": "stream",
     "text": [
      "[*********************100%***********************]  2 of 2 completed"
     ]
    },
    {
     "name": "stdout",
     "output_type": "stream",
     "text": [
      "YF.download() has changed argument auto_adjust default to True\n"
     ]
    },
    {
     "name": "stderr",
     "output_type": "stream",
     "text": [
      "\n"
     ]
    },
    {
     "data": {
      "application/vnd.microsoft.datawrangler.viewer.v0+json": {
       "columns": [
        {
         "name": "Date",
         "rawType": "datetime64[ns]",
         "type": "datetime"
        },
        {
         "name": "('META', 'Open')",
         "rawType": "float64",
         "type": "float"
        },
        {
         "name": "('META', 'High')",
         "rawType": "float64",
         "type": "float"
        },
        {
         "name": "('META', 'Low')",
         "rawType": "float64",
         "type": "float"
        },
        {
         "name": "('META', 'Close')",
         "rawType": "float64",
         "type": "float"
        },
        {
         "name": "('META', 'Volume')",
         "rawType": "int64",
         "type": "integer"
        },
        {
         "name": "('GOOG', 'Open')",
         "rawType": "float64",
         "type": "float"
        },
        {
         "name": "('GOOG', 'High')",
         "rawType": "float64",
         "type": "float"
        },
        {
         "name": "('GOOG', 'Low')",
         "rawType": "float64",
         "type": "float"
        },
        {
         "name": "('GOOG', 'Close')",
         "rawType": "float64",
         "type": "float"
        },
        {
         "name": "('GOOG', 'Volume')",
         "rawType": "int64",
         "type": "integer"
        }
       ],
       "conversionMethod": "pd.DataFrame",
       "ref": "85bba574-fb52-4696-a16b-2457aedad5c3",
       "rows": [
        [
         "2025-04-15 00:00:00",
         "532.1099853515625",
         "537.9400024414062",
         "517.5",
         "521.52001953125",
         "15558700",
         "161.57000732421875",
         "162.0500030517578",
         "157.64500427246094",
         "158.67999267578125",
         "15690800"
        ],
        [
         "2025-04-16 00:00:00",
         "508.510009765625",
         "513.3699951171875",
         "495.6300048828125",
         "502.30999755859375",
         "18735100",
         "155.47000122070312",
         "158.17999267578125",
         "153.91000366210938",
         "155.5",
         "16921500"
        ],
        [
         "2025-04-17 00:00:00",
         "505.25",
         "507.29998779296875",
         "498.010009765625",
         "501.4800109863281",
         "14593500",
         "156.61000061035156",
         "157.07000732421875",
         "150.89999389648438",
         "153.36000061035156",
         "19513400"
        ],
        [
         "2025-04-21 00:00:00",
         "491.3299865722656",
         "493.5",
         "479.79998779296875",
         "484.6600036621094",
         "16166000",
         "150.96499633789062",
         "151.05999755859375",
         "148.39999389648438",
         "149.86000061035156",
         "16147800"
        ],
        [
         "2025-04-22 00:00:00",
         "491.8699951171875",
         "506.8800048828125",
         "486.3599853515625",
         "500.2799987792969",
         "17399400",
         "151.07000732421875",
         "154.61000061035156",
         "150.8699951171875",
         "153.89999389648438",
         "15910300"
        ]
       ],
       "shape": {
        "columns": 10,
        "rows": 5
       }
      },
      "text/html": [
       "<div>\n",
       "<style scoped>\n",
       "    .dataframe tbody tr th:only-of-type {\n",
       "        vertical-align: middle;\n",
       "    }\n",
       "\n",
       "    .dataframe tbody tr th {\n",
       "        vertical-align: top;\n",
       "    }\n",
       "\n",
       "    .dataframe thead tr th {\n",
       "        text-align: left;\n",
       "    }\n",
       "\n",
       "    .dataframe thead tr:last-of-type th {\n",
       "        text-align: right;\n",
       "    }\n",
       "</style>\n",
       "<table border=\"1\" class=\"dataframe\">\n",
       "  <thead>\n",
       "    <tr>\n",
       "      <th>Ticker</th>\n",
       "      <th colspan=\"5\" halign=\"left\">META</th>\n",
       "      <th colspan=\"5\" halign=\"left\">GOOG</th>\n",
       "    </tr>\n",
       "    <tr>\n",
       "      <th>Price</th>\n",
       "      <th>Open</th>\n",
       "      <th>High</th>\n",
       "      <th>Low</th>\n",
       "      <th>Close</th>\n",
       "      <th>Volume</th>\n",
       "      <th>Open</th>\n",
       "      <th>High</th>\n",
       "      <th>Low</th>\n",
       "      <th>Close</th>\n",
       "      <th>Volume</th>\n",
       "    </tr>\n",
       "    <tr>\n",
       "      <th>Date</th>\n",
       "      <th></th>\n",
       "      <th></th>\n",
       "      <th></th>\n",
       "      <th></th>\n",
       "      <th></th>\n",
       "      <th></th>\n",
       "      <th></th>\n",
       "      <th></th>\n",
       "      <th></th>\n",
       "      <th></th>\n",
       "    </tr>\n",
       "  </thead>\n",
       "  <tbody>\n",
       "    <tr>\n",
       "      <th>2025-04-15</th>\n",
       "      <td>532.109985</td>\n",
       "      <td>537.940002</td>\n",
       "      <td>517.500000</td>\n",
       "      <td>521.520020</td>\n",
       "      <td>15558700</td>\n",
       "      <td>161.570007</td>\n",
       "      <td>162.050003</td>\n",
       "      <td>157.645004</td>\n",
       "      <td>158.679993</td>\n",
       "      <td>15690800</td>\n",
       "    </tr>\n",
       "    <tr>\n",
       "      <th>2025-04-16</th>\n",
       "      <td>508.510010</td>\n",
       "      <td>513.369995</td>\n",
       "      <td>495.630005</td>\n",
       "      <td>502.309998</td>\n",
       "      <td>18735100</td>\n",
       "      <td>155.470001</td>\n",
       "      <td>158.179993</td>\n",
       "      <td>153.910004</td>\n",
       "      <td>155.500000</td>\n",
       "      <td>16921500</td>\n",
       "    </tr>\n",
       "    <tr>\n",
       "      <th>2025-04-17</th>\n",
       "      <td>505.250000</td>\n",
       "      <td>507.299988</td>\n",
       "      <td>498.010010</td>\n",
       "      <td>501.480011</td>\n",
       "      <td>14593500</td>\n",
       "      <td>156.610001</td>\n",
       "      <td>157.070007</td>\n",
       "      <td>150.899994</td>\n",
       "      <td>153.360001</td>\n",
       "      <td>19513400</td>\n",
       "    </tr>\n",
       "    <tr>\n",
       "      <th>2025-04-21</th>\n",
       "      <td>491.329987</td>\n",
       "      <td>493.500000</td>\n",
       "      <td>479.799988</td>\n",
       "      <td>484.660004</td>\n",
       "      <td>16166000</td>\n",
       "      <td>150.964996</td>\n",
       "      <td>151.059998</td>\n",
       "      <td>148.399994</td>\n",
       "      <td>149.860001</td>\n",
       "      <td>16147800</td>\n",
       "    </tr>\n",
       "    <tr>\n",
       "      <th>2025-04-22</th>\n",
       "      <td>491.869995</td>\n",
       "      <td>506.880005</td>\n",
       "      <td>486.359985</td>\n",
       "      <td>500.279999</td>\n",
       "      <td>17399400</td>\n",
       "      <td>151.070007</td>\n",
       "      <td>154.610001</td>\n",
       "      <td>150.869995</td>\n",
       "      <td>153.899994</td>\n",
       "      <td>15910300</td>\n",
       "    </tr>\n",
       "  </tbody>\n",
       "</table>\n",
       "</div>"
      ],
      "text/plain": [
       "Ticker            META                                                \\\n",
       "Price             Open        High         Low       Close    Volume   \n",
       "Date                                                                   \n",
       "2025-04-15  532.109985  537.940002  517.500000  521.520020  15558700   \n",
       "2025-04-16  508.510010  513.369995  495.630005  502.309998  18735100   \n",
       "2025-04-17  505.250000  507.299988  498.010010  501.480011  14593500   \n",
       "2025-04-21  491.329987  493.500000  479.799988  484.660004  16166000   \n",
       "2025-04-22  491.869995  506.880005  486.359985  500.279999  17399400   \n",
       "\n",
       "Ticker            GOOG                                                \n",
       "Price             Open        High         Low       Close    Volume  \n",
       "Date                                                                  \n",
       "2025-04-15  161.570007  162.050003  157.645004  158.679993  15690800  \n",
       "2025-04-16  155.470001  158.179993  153.910004  155.500000  16921500  \n",
       "2025-04-17  156.610001  157.070007  150.899994  153.360001  19513400  \n",
       "2025-04-21  150.964996  151.059998  148.399994  149.860001  16147800  \n",
       "2025-04-22  151.070007  154.610001  150.869995  153.899994  15910300  "
      ]
     },
     "execution_count": 6,
     "metadata": {},
     "output_type": "execute_result"
    }
   ],
   "source": [
    "#! downloading data\n",
    "data = yf.download(['GOOG','META'], period = '1mo', group_by='ticker')\n",
    "data.head()"
   ]
  },
  {
   "cell_type": "code",
   "execution_count": 7,
   "id": "374001a6",
   "metadata": {},
   "outputs": [],
   "source": [
    "nasdaq = pd.read_csv(\"nasdaq-listed-symbols.csv\")"
   ]
  },
  {
   "cell_type": "code",
   "execution_count": 9,
   "id": "24d9e92d",
   "metadata": {},
   "outputs": [
    {
     "name": "stdout",
     "output_type": "stream",
     "text": [
      "     Symbol   Company Name                          Security Name  \\\n",
      "1860   GOOG  Alphabet Inc.  Alphabet Inc. - Class C Capital Stock   \n",
      "\n",
      "     Market Category Test Issue Financial Status  Round Lot Size ETF  \\\n",
      "1860               Q          N                N           100.0   N   \n",
      "\n",
      "     NextShares  \n",
      "1860          N  \n"
     ]
    }
   ],
   "source": [
    "print(nasdaq[nasdaq[\"Symbol\"] == \"GOOG\"])"
   ]
  },
  {
   "cell_type": "code",
   "execution_count": null,
   "id": "0da97336",
   "metadata": {},
   "outputs": [
    {
     "ename": "NoConsoleScreenBufferError",
     "evalue": "Found xterm-color, while expecting a Windows console. Maybe try to run this program using \"winpty\" or run it in cmd.exe instead. Or otherwise, in case of Cygwin, use the Python executable that is compiled for Cygwin.",
     "output_type": "error",
     "traceback": [
      "\u001b[31m---------------------------------------------------------------------------\u001b[39m",
      "\u001b[31mNoConsoleScreenBufferError\u001b[39m                Traceback (most recent call last)",
      "\u001b[36mCell\u001b[39m\u001b[36m \u001b[39m\u001b[32mIn[17]\u001b[39m\u001b[32m, line 4\u001b[39m\n\u001b[32m      1\u001b[39m \u001b[38;5;28;01mimport\u001b[39;00m\u001b[38;5;250m \u001b[39m\u001b[34;01mquestionary\u001b[39;00m\n\u001b[32m      2\u001b[39m nasdaq = nasdaq.dropna()\n\u001b[32m----> \u001b[39m\u001b[32m4\u001b[39m selected = \u001b[43mquestionary\u001b[49m\u001b[43m.\u001b[49m\u001b[43mcheckbox\u001b[49m\u001b[43m(\u001b[49m\n\u001b[32m      5\u001b[39m \u001b[43m    \u001b[49m\u001b[33;43m\"\u001b[39;49m\u001b[33;43mSelect the stock in your portfolio:\u001b[39;49m\u001b[33;43m\"\u001b[39;49m\u001b[43m,\u001b[49m\n\u001b[32m      6\u001b[39m \u001b[43m    \u001b[49m\u001b[43mchoices\u001b[49m\u001b[43m \u001b[49m\u001b[43m=\u001b[49m\u001b[43m \u001b[49m\u001b[43mnasdaq\u001b[49m\u001b[43m[\u001b[49m\u001b[33;43m\"\u001b[39;49m\u001b[33;43mSecurity Name\u001b[39;49m\u001b[33;43m\"\u001b[39;49m\u001b[43m]\u001b[49m\n\u001b[32m      7\u001b[39m \u001b[43m    \u001b[49m\u001b[43m)\u001b[49m.ask()\n",
      "\u001b[36mFile \u001b[39m\u001b[32mc:\\Users\\Kacper\\AppData\\Local\\Programs\\Python\\Python313\\Lib\\site-packages\\questionary\\prompts\\checkbox.py:225\u001b[39m, in \u001b[36mcheckbox\u001b[39m\u001b[34m(message, choices, default, validate, qmark, pointer, style, initial_choice, use_arrow_keys, use_jk_keys, use_emacs_keys, use_search_filter, instruction, show_description, **kwargs)\u001b[39m\n\u001b[32m    219\u001b[39m     ic.error_message = (\n\u001b[32m    220\u001b[39m         error_message \u001b[38;5;28;01mif\u001b[39;00m \u001b[38;5;129;01mnot\u001b[39;00m valid \u001b[38;5;129;01mand\u001b[39;00m ic.submission_attempted \u001b[38;5;28;01melse\u001b[39;00m \u001b[38;5;28;01mNone\u001b[39;00m  \u001b[38;5;66;03m# type: ignore[assignment]\u001b[39;00m\n\u001b[32m    221\u001b[39m     )\n\u001b[32m    223\u001b[39m     \u001b[38;5;28;01mreturn\u001b[39;00m valid\n\u001b[32m--> \u001b[39m\u001b[32m225\u001b[39m layout = \u001b[43mcommon\u001b[49m\u001b[43m.\u001b[49m\u001b[43mcreate_inquirer_layout\u001b[49m\u001b[43m(\u001b[49m\u001b[43mic\u001b[49m\u001b[43m,\u001b[49m\u001b[43m \u001b[49m\u001b[43mget_prompt_tokens\u001b[49m\u001b[43m,\u001b[49m\u001b[43m \u001b[49m\u001b[43m*\u001b[49m\u001b[43m*\u001b[49m\u001b[43mkwargs\u001b[49m\u001b[43m)\u001b[49m\n\u001b[32m    227\u001b[39m bindings = KeyBindings()\n\u001b[32m    229\u001b[39m \u001b[38;5;129m@bindings\u001b[39m.add(Keys.ControlQ, eager=\u001b[38;5;28;01mTrue\u001b[39;00m)\n\u001b[32m    230\u001b[39m \u001b[38;5;129m@bindings\u001b[39m.add(Keys.ControlC, eager=\u001b[38;5;28;01mTrue\u001b[39;00m)\n\u001b[32m    231\u001b[39m \u001b[38;5;28;01mdef\u001b[39;00m\u001b[38;5;250m \u001b[39m\u001b[34m_\u001b[39m(event):\n",
      "\u001b[36mFile \u001b[39m\u001b[32mc:\\Users\\Kacper\\AppData\\Local\\Programs\\Python\\Python313\\Lib\\site-packages\\questionary\\prompts\\common.py:608\u001b[39m, in \u001b[36mcreate_inquirer_layout\u001b[39m\u001b[34m(ic, get_prompt_tokens, **kwargs)\u001b[39m\n\u001b[32m    601\u001b[39m \u001b[38;5;28;01mdef\u001b[39;00m\u001b[38;5;250m \u001b[39m\u001b[34mcreate_inquirer_layout\u001b[39m(\n\u001b[32m    602\u001b[39m     ic: InquirerControl,\n\u001b[32m    603\u001b[39m     get_prompt_tokens: Callable[[], List[Tuple[\u001b[38;5;28mstr\u001b[39m, \u001b[38;5;28mstr\u001b[39m]]],\n\u001b[32m    604\u001b[39m     **kwargs: Any,\n\u001b[32m    605\u001b[39m ) -> Layout:\n\u001b[32m    606\u001b[39m \u001b[38;5;250m    \u001b[39m\u001b[33;03m\"\"\"Create a layout combining question and inquirer selection.\"\"\"\u001b[39;00m\n\u001b[32m--> \u001b[39m\u001b[32m608\u001b[39m     ps: PromptSession = \u001b[43mPromptSession\u001b[49m\u001b[43m(\u001b[49m\n\u001b[32m    609\u001b[39m \u001b[43m        \u001b[49m\u001b[43mget_prompt_tokens\u001b[49m\u001b[43m,\u001b[49m\u001b[43m \u001b[49m\u001b[43mreserve_space_for_menu\u001b[49m\u001b[43m=\u001b[49m\u001b[32;43m0\u001b[39;49m\u001b[43m,\u001b[49m\u001b[43m \u001b[49m\u001b[43m*\u001b[49m\u001b[43m*\u001b[49m\u001b[43mkwargs\u001b[49m\n\u001b[32m    610\u001b[39m \u001b[43m    \u001b[49m\u001b[43m)\u001b[49m\n\u001b[32m    611\u001b[39m     _fix_unecessary_blank_lines(ps)\n\u001b[32m    613\u001b[39m     \u001b[38;5;129m@Condition\u001b[39m\n\u001b[32m    614\u001b[39m     \u001b[38;5;28;01mdef\u001b[39;00m\u001b[38;5;250m \u001b[39m\u001b[34mhas_search_string\u001b[39m():\n",
      "\u001b[36mFile \u001b[39m\u001b[32m~\\AppData\\Roaming\\Python\\Python313\\site-packages\\prompt_toolkit\\shortcuts\\prompt.py:476\u001b[39m, in \u001b[36mPromptSession.__init__\u001b[39m\u001b[34m(self, message, multiline, wrap_lines, is_password, vi_mode, editing_mode, complete_while_typing, validate_while_typing, enable_history_search, search_ignore_case, lexer, enable_system_prompt, enable_suspend, enable_open_in_editor, validator, completer, complete_in_thread, reserve_space_for_menu, complete_style, auto_suggest, style, style_transformation, swap_light_and_dark_colors, color_depth, cursor, include_default_pygments_style, history, clipboard, prompt_continuation, rprompt, bottom_toolbar, mouse_support, input_processors, placeholder, key_bindings, erase_when_done, tempfile_suffix, tempfile, refresh_interval, input, output, interrupt_exception, eof_exception)\u001b[39m\n\u001b[32m    474\u001b[39m \u001b[38;5;28mself\u001b[39m.search_buffer = \u001b[38;5;28mself\u001b[39m._create_search_buffer()\n\u001b[32m    475\u001b[39m \u001b[38;5;28mself\u001b[39m.layout = \u001b[38;5;28mself\u001b[39m._create_layout()\n\u001b[32m--> \u001b[39m\u001b[32m476\u001b[39m \u001b[38;5;28mself\u001b[39m.app = \u001b[38;5;28;43mself\u001b[39;49m\u001b[43m.\u001b[49m\u001b[43m_create_application\u001b[49m\u001b[43m(\u001b[49m\u001b[43mediting_mode\u001b[49m\u001b[43m,\u001b[49m\u001b[43m \u001b[49m\u001b[43merase_when_done\u001b[49m\u001b[43m)\u001b[49m\n",
      "\u001b[36mFile \u001b[39m\u001b[32m~\\AppData\\Roaming\\Python\\Python313\\site-packages\\prompt_toolkit\\shortcuts\\prompt.py:727\u001b[39m, in \u001b[36mPromptSession._create_application\u001b[39m\u001b[34m(self, editing_mode, erase_when_done)\u001b[39m\n\u001b[32m    724\u001b[39m prompt_bindings = \u001b[38;5;28mself\u001b[39m._create_prompt_bindings()\n\u001b[32m    726\u001b[39m \u001b[38;5;66;03m# Create application\u001b[39;00m\n\u001b[32m--> \u001b[39m\u001b[32m727\u001b[39m application: Application[_T] = \u001b[43mApplication\u001b[49m\u001b[43m(\u001b[49m\n\u001b[32m    728\u001b[39m \u001b[43m    \u001b[49m\u001b[43mlayout\u001b[49m\u001b[43m=\u001b[49m\u001b[38;5;28;43mself\u001b[39;49m\u001b[43m.\u001b[49m\u001b[43mlayout\u001b[49m\u001b[43m,\u001b[49m\n\u001b[32m    729\u001b[39m \u001b[43m    \u001b[49m\u001b[43mstyle\u001b[49m\u001b[43m=\u001b[49m\u001b[43mDynamicStyle\u001b[49m\u001b[43m(\u001b[49m\u001b[38;5;28;43;01mlambda\u001b[39;49;00m\u001b[43m:\u001b[49m\u001b[43m \u001b[49m\u001b[38;5;28;43mself\u001b[39;49m\u001b[43m.\u001b[49m\u001b[43mstyle\u001b[49m\u001b[43m)\u001b[49m\u001b[43m,\u001b[49m\n\u001b[32m    730\u001b[39m \u001b[43m    \u001b[49m\u001b[43mstyle_transformation\u001b[49m\u001b[43m=\u001b[49m\u001b[43mmerge_style_transformations\u001b[49m\u001b[43m(\u001b[49m\n\u001b[32m    731\u001b[39m \u001b[43m        \u001b[49m\u001b[43m[\u001b[49m\n\u001b[32m    732\u001b[39m \u001b[43m            \u001b[49m\u001b[43mDynamicStyleTransformation\u001b[49m\u001b[43m(\u001b[49m\u001b[38;5;28;43;01mlambda\u001b[39;49;00m\u001b[43m:\u001b[49m\u001b[43m \u001b[49m\u001b[38;5;28;43mself\u001b[39;49m\u001b[43m.\u001b[49m\u001b[43mstyle_transformation\u001b[49m\u001b[43m)\u001b[49m\u001b[43m,\u001b[49m\n\u001b[32m    733\u001b[39m \u001b[43m            \u001b[49m\u001b[43mConditionalStyleTransformation\u001b[49m\u001b[43m(\u001b[49m\n\u001b[32m    734\u001b[39m \u001b[43m                \u001b[49m\u001b[43mSwapLightAndDarkStyleTransformation\u001b[49m\u001b[43m(\u001b[49m\u001b[43m)\u001b[49m\u001b[43m,\u001b[49m\n\u001b[32m    735\u001b[39m \u001b[43m                \u001b[49m\u001b[43mdyncond\u001b[49m\u001b[43m(\u001b[49m\u001b[33;43m\"\u001b[39;49m\u001b[33;43mswap_light_and_dark_colors\u001b[39;49m\u001b[33;43m\"\u001b[39;49m\u001b[43m)\u001b[49m\u001b[43m,\u001b[49m\n\u001b[32m    736\u001b[39m \u001b[43m            \u001b[49m\u001b[43m)\u001b[49m\u001b[43m,\u001b[49m\n\u001b[32m    737\u001b[39m \u001b[43m        \u001b[49m\u001b[43m]\u001b[49m\n\u001b[32m    738\u001b[39m \u001b[43m    \u001b[49m\u001b[43m)\u001b[49m\u001b[43m,\u001b[49m\n\u001b[32m    739\u001b[39m \u001b[43m    \u001b[49m\u001b[43minclude_default_pygments_style\u001b[49m\u001b[43m=\u001b[49m\u001b[43mdyncond\u001b[49m\u001b[43m(\u001b[49m\u001b[33;43m\"\u001b[39;49m\u001b[33;43minclude_default_pygments_style\u001b[39;49m\u001b[33;43m\"\u001b[39;49m\u001b[43m)\u001b[49m\u001b[43m,\u001b[49m\n\u001b[32m    740\u001b[39m \u001b[43m    \u001b[49m\u001b[43mclipboard\u001b[49m\u001b[43m=\u001b[49m\u001b[43mDynamicClipboard\u001b[49m\u001b[43m(\u001b[49m\u001b[38;5;28;43;01mlambda\u001b[39;49;00m\u001b[43m:\u001b[49m\u001b[43m \u001b[49m\u001b[38;5;28;43mself\u001b[39;49m\u001b[43m.\u001b[49m\u001b[43mclipboard\u001b[49m\u001b[43m)\u001b[49m\u001b[43m,\u001b[49m\n\u001b[32m    741\u001b[39m \u001b[43m    \u001b[49m\u001b[43mkey_bindings\u001b[49m\u001b[43m=\u001b[49m\u001b[43mmerge_key_bindings\u001b[49m\u001b[43m(\u001b[49m\n\u001b[32m    742\u001b[39m \u001b[43m        \u001b[49m\u001b[43m[\u001b[49m\n\u001b[32m    743\u001b[39m \u001b[43m            \u001b[49m\u001b[43mmerge_key_bindings\u001b[49m\u001b[43m(\u001b[49m\n\u001b[32m    744\u001b[39m \u001b[43m                \u001b[49m\u001b[43m[\u001b[49m\n\u001b[32m    745\u001b[39m \u001b[43m                    \u001b[49m\u001b[43mauto_suggest_bindings\u001b[49m\u001b[43m,\u001b[49m\n\u001b[32m    746\u001b[39m \u001b[43m                    \u001b[49m\u001b[43mConditionalKeyBindings\u001b[49m\u001b[43m(\u001b[49m\n\u001b[32m    747\u001b[39m \u001b[43m                        \u001b[49m\u001b[43mopen_in_editor_bindings\u001b[49m\u001b[43m,\u001b[49m\n\u001b[32m    748\u001b[39m \u001b[43m                        \u001b[49m\u001b[43mdyncond\u001b[49m\u001b[43m(\u001b[49m\u001b[33;43m\"\u001b[39;49m\u001b[33;43menable_open_in_editor\u001b[39;49m\u001b[33;43m\"\u001b[39;49m\u001b[43m)\u001b[49m\n\u001b[32m    749\u001b[39m \u001b[43m                        \u001b[49m\u001b[43m&\u001b[49m\u001b[43m \u001b[49m\u001b[43mhas_focus\u001b[49m\u001b[43m(\u001b[49m\u001b[43mDEFAULT_BUFFER\u001b[49m\u001b[43m)\u001b[49m\u001b[43m,\u001b[49m\n\u001b[32m    750\u001b[39m \u001b[43m                    \u001b[49m\u001b[43m)\u001b[49m\u001b[43m,\u001b[49m\n\u001b[32m    751\u001b[39m \u001b[43m                    \u001b[49m\u001b[43mprompt_bindings\u001b[49m\u001b[43m,\u001b[49m\n\u001b[32m    752\u001b[39m \u001b[43m                \u001b[49m\u001b[43m]\u001b[49m\n\u001b[32m    753\u001b[39m \u001b[43m            \u001b[49m\u001b[43m)\u001b[49m\u001b[43m,\u001b[49m\n\u001b[32m    754\u001b[39m \u001b[43m            \u001b[49m\u001b[43mDynamicKeyBindings\u001b[49m\u001b[43m(\u001b[49m\u001b[38;5;28;43;01mlambda\u001b[39;49;00m\u001b[43m:\u001b[49m\u001b[43m \u001b[49m\u001b[38;5;28;43mself\u001b[39;49m\u001b[43m.\u001b[49m\u001b[43mkey_bindings\u001b[49m\u001b[43m)\u001b[49m\u001b[43m,\u001b[49m\n\u001b[32m    755\u001b[39m \u001b[43m        \u001b[49m\u001b[43m]\u001b[49m\n\u001b[32m    756\u001b[39m \u001b[43m    \u001b[49m\u001b[43m)\u001b[49m\u001b[43m,\u001b[49m\n\u001b[32m    757\u001b[39m \u001b[43m    \u001b[49m\u001b[43mmouse_support\u001b[49m\u001b[43m=\u001b[49m\u001b[43mdyncond\u001b[49m\u001b[43m(\u001b[49m\u001b[33;43m\"\u001b[39;49m\u001b[33;43mmouse_support\u001b[39;49m\u001b[33;43m\"\u001b[39;49m\u001b[43m)\u001b[49m\u001b[43m,\u001b[49m\n\u001b[32m    758\u001b[39m \u001b[43m    \u001b[49m\u001b[43mediting_mode\u001b[49m\u001b[43m=\u001b[49m\u001b[43mediting_mode\u001b[49m\u001b[43m,\u001b[49m\n\u001b[32m    759\u001b[39m \u001b[43m    \u001b[49m\u001b[43merase_when_done\u001b[49m\u001b[43m=\u001b[49m\u001b[43merase_when_done\u001b[49m\u001b[43m,\u001b[49m\n\u001b[32m    760\u001b[39m \u001b[43m    \u001b[49m\u001b[43mreverse_vi_search_direction\u001b[49m\u001b[43m=\u001b[49m\u001b[38;5;28;43;01mTrue\u001b[39;49;00m\u001b[43m,\u001b[49m\n\u001b[32m    761\u001b[39m \u001b[43m    \u001b[49m\u001b[43mcolor_depth\u001b[49m\u001b[43m=\u001b[49m\u001b[38;5;28;43;01mlambda\u001b[39;49;00m\u001b[43m:\u001b[49m\u001b[43m \u001b[49m\u001b[38;5;28;43mself\u001b[39;49m\u001b[43m.\u001b[49m\u001b[43mcolor_depth\u001b[49m\u001b[43m,\u001b[49m\n\u001b[32m    762\u001b[39m \u001b[43m    \u001b[49m\u001b[43mcursor\u001b[49m\u001b[43m=\u001b[49m\u001b[43mDynamicCursorShapeConfig\u001b[49m\u001b[43m(\u001b[49m\u001b[38;5;28;43;01mlambda\u001b[39;49;00m\u001b[43m:\u001b[49m\u001b[43m \u001b[49m\u001b[38;5;28;43mself\u001b[39;49m\u001b[43m.\u001b[49m\u001b[43mcursor\u001b[49m\u001b[43m)\u001b[49m\u001b[43m,\u001b[49m\n\u001b[32m    763\u001b[39m \u001b[43m    \u001b[49m\u001b[43mrefresh_interval\u001b[49m\u001b[43m=\u001b[49m\u001b[38;5;28;43mself\u001b[39;49m\u001b[43m.\u001b[49m\u001b[43mrefresh_interval\u001b[49m\u001b[43m,\u001b[49m\n\u001b[32m    764\u001b[39m \u001b[43m    \u001b[49m\u001b[38;5;28;43minput\u001b[39;49m\u001b[43m=\u001b[49m\u001b[38;5;28;43mself\u001b[39;49m\u001b[43m.\u001b[49m\u001b[43m_input\u001b[49m\u001b[43m,\u001b[49m\n\u001b[32m    765\u001b[39m \u001b[43m    \u001b[49m\u001b[43moutput\u001b[49m\u001b[43m=\u001b[49m\u001b[38;5;28;43mself\u001b[39;49m\u001b[43m.\u001b[49m\u001b[43m_output\u001b[49m\u001b[43m,\u001b[49m\n\u001b[32m    766\u001b[39m \u001b[43m\u001b[49m\u001b[43m)\u001b[49m\n\u001b[32m    768\u001b[39m \u001b[38;5;66;03m# During render time, make sure that we focus the right search control\u001b[39;00m\n\u001b[32m    769\u001b[39m \u001b[38;5;66;03m# (if we are searching). - This could be useful if people make the\u001b[39;00m\n\u001b[32m    770\u001b[39m \u001b[38;5;66;03m# 'multiline' property dynamic.\u001b[39;00m\n\u001b[32m    771\u001b[39m \u001b[38;5;250m\u001b[39m\u001b[33;03m\"\"\"\u001b[39;00m\n\u001b[32m    772\u001b[39m \u001b[33;03mdef on_render(app):\u001b[39;00m\n\u001b[32m    773\u001b[39m \u001b[33;03m    multiline = is_true(self.multiline)\u001b[39;00m\n\u001b[32m   (...)\u001b[39m\u001b[32m    785\u001b[39m \u001b[33;03mapp.on_render += on_render\u001b[39;00m\n\u001b[32m    786\u001b[39m \u001b[33;03m\"\"\"\u001b[39;00m\n",
      "\u001b[36mFile \u001b[39m\u001b[32m~\\AppData\\Roaming\\Python\\Python313\\site-packages\\prompt_toolkit\\application\\application.py:267\u001b[39m, in \u001b[36mApplication.__init__\u001b[39m\u001b[34m(self, layout, style, include_default_pygments_style, style_transformation, key_bindings, clipboard, full_screen, color_depth, mouse_support, enable_page_navigation_bindings, paste_mode, editing_mode, erase_when_done, reverse_vi_search_direction, min_redraw_interval, max_render_postpone_time, refresh_interval, terminal_size_polling_interval, cursor, on_reset, on_invalidate, before_render, after_render, input, output)\u001b[39m\n\u001b[32m    265\u001b[39m \u001b[38;5;66;03m# I/O.\u001b[39;00m\n\u001b[32m    266\u001b[39m session = get_app_session()\n\u001b[32m--> \u001b[39m\u001b[32m267\u001b[39m \u001b[38;5;28mself\u001b[39m.output = output \u001b[38;5;129;01mor\u001b[39;00m \u001b[43msession\u001b[49m\u001b[43m.\u001b[49m\u001b[43moutput\u001b[49m\n\u001b[32m    268\u001b[39m \u001b[38;5;28mself\u001b[39m.input = \u001b[38;5;28minput\u001b[39m \u001b[38;5;129;01mor\u001b[39;00m session.input\n\u001b[32m    270\u001b[39m \u001b[38;5;66;03m# List of 'extra' functions to execute before a Application.run.\u001b[39;00m\n",
      "\u001b[36mFile \u001b[39m\u001b[32m~\\AppData\\Roaming\\Python\\Python313\\site-packages\\prompt_toolkit\\application\\current.py:67\u001b[39m, in \u001b[36mAppSession.output\u001b[39m\u001b[34m(self)\u001b[39m\n\u001b[32m     64\u001b[39m \u001b[38;5;28;01mif\u001b[39;00m \u001b[38;5;28mself\u001b[39m._output \u001b[38;5;129;01mis\u001b[39;00m \u001b[38;5;28;01mNone\u001b[39;00m:\n\u001b[32m     65\u001b[39m     \u001b[38;5;28;01mfrom\u001b[39;00m\u001b[38;5;250m \u001b[39m\u001b[34;01mprompt_toolkit\u001b[39;00m\u001b[34;01m.\u001b[39;00m\u001b[34;01moutput\u001b[39;00m\u001b[34;01m.\u001b[39;00m\u001b[34;01mdefaults\u001b[39;00m\u001b[38;5;250m \u001b[39m\u001b[38;5;28;01mimport\u001b[39;00m create_output\n\u001b[32m---> \u001b[39m\u001b[32m67\u001b[39m     \u001b[38;5;28mself\u001b[39m._output = \u001b[43mcreate_output\u001b[49m\u001b[43m(\u001b[49m\u001b[43m)\u001b[49m\n\u001b[32m     68\u001b[39m \u001b[38;5;28;01mreturn\u001b[39;00m \u001b[38;5;28mself\u001b[39m._output\n",
      "\u001b[36mFile \u001b[39m\u001b[32m~\\AppData\\Roaming\\Python\\Python313\\site-packages\\prompt_toolkit\\output\\defaults.py:91\u001b[39m, in \u001b[36mcreate_output\u001b[39m\u001b[34m(stdout, always_prefer_tty)\u001b[39m\n\u001b[32m     87\u001b[39m         \u001b[38;5;28;01mreturn\u001b[39;00m cast(\n\u001b[32m     88\u001b[39m             Output, ConEmuOutput(stdout, default_color_depth=color_depth_from_env)\n\u001b[32m     89\u001b[39m         )\n\u001b[32m     90\u001b[39m     \u001b[38;5;28;01melse\u001b[39;00m:\n\u001b[32m---> \u001b[39m\u001b[32m91\u001b[39m         \u001b[38;5;28;01mreturn\u001b[39;00m \u001b[43mWin32Output\u001b[49m\u001b[43m(\u001b[49m\u001b[43mstdout\u001b[49m\u001b[43m,\u001b[49m\u001b[43m \u001b[49m\u001b[43mdefault_color_depth\u001b[49m\u001b[43m=\u001b[49m\u001b[43mcolor_depth_from_env\u001b[49m\u001b[43m)\u001b[49m\n\u001b[32m     92\u001b[39m \u001b[38;5;28;01melse\u001b[39;00m:\n\u001b[32m     93\u001b[39m     \u001b[38;5;28;01mfrom\u001b[39;00m\u001b[38;5;250m \u001b[39m\u001b[34;01m.\u001b[39;00m\u001b[34;01mvt100\u001b[39;00m\u001b[38;5;250m \u001b[39m\u001b[38;5;28;01mimport\u001b[39;00m Vt100_Output\n",
      "\u001b[36mFile \u001b[39m\u001b[32m~\\AppData\\Roaming\\Python\\Python313\\site-packages\\prompt_toolkit\\output\\win32.py:115\u001b[39m, in \u001b[36mWin32Output.__init__\u001b[39m\u001b[34m(self, stdout, use_complete_width, default_color_depth)\u001b[39m\n\u001b[32m    112\u001b[39m \u001b[38;5;28mself\u001b[39m.color_lookup_table = ColorLookupTable()\n\u001b[32m    114\u001b[39m \u001b[38;5;66;03m# Remember the default console colors.\u001b[39;00m\n\u001b[32m--> \u001b[39m\u001b[32m115\u001b[39m info = \u001b[38;5;28;43mself\u001b[39;49m\u001b[43m.\u001b[49m\u001b[43mget_win32_screen_buffer_info\u001b[49m\u001b[43m(\u001b[49m\u001b[43m)\u001b[49m\n\u001b[32m    116\u001b[39m \u001b[38;5;28mself\u001b[39m.default_attrs = info.wAttributes \u001b[38;5;28;01mif\u001b[39;00m info \u001b[38;5;28;01melse\u001b[39;00m \u001b[32m15\u001b[39m\n\u001b[32m    118\u001b[39m \u001b[38;5;28;01mif\u001b[39;00m _DEBUG_RENDER_OUTPUT:\n",
      "\u001b[36mFile \u001b[39m\u001b[32m~\\AppData\\Roaming\\Python\\Python313\\site-packages\\prompt_toolkit\\output\\win32.py:219\u001b[39m, in \u001b[36mWin32Output.get_win32_screen_buffer_info\u001b[39m\u001b[34m(self)\u001b[39m\n\u001b[32m    217\u001b[39m     \u001b[38;5;28;01mreturn\u001b[39;00m sbinfo\n\u001b[32m    218\u001b[39m \u001b[38;5;28;01melse\u001b[39;00m:\n\u001b[32m--> \u001b[39m\u001b[32m219\u001b[39m     \u001b[38;5;28;01mraise\u001b[39;00m NoConsoleScreenBufferError\n",
      "\u001b[31mNoConsoleScreenBufferError\u001b[39m: Found xterm-color, while expecting a Windows console. Maybe try to run this program using \"winpty\" or run it in cmd.exe instead. Or otherwise, in case of Cygwin, use the Python executable that is compiled for Cygwin."
     ]
    }
   ],
   "source": []
  },
  {
   "cell_type": "code",
   "execution_count": null,
   "id": "2bd5dec9",
   "metadata": {},
   "outputs": [],
   "source": []
  }
 ],
 "metadata": {
  "kernelspec": {
   "display_name": "Python 3",
   "language": "python",
   "name": "python3"
  },
  "language_info": {
   "codemirror_mode": {
    "name": "ipython",
    "version": 3
   },
   "file_extension": ".py",
   "mimetype": "text/x-python",
   "name": "python",
   "nbconvert_exporter": "python",
   "pygments_lexer": "ipython3",
   "version": "3.13.3"
  }
 },
 "nbformat": 4,
 "nbformat_minor": 5
}
